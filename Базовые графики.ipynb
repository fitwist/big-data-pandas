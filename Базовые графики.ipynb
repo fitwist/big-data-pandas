{
 "cells": [
  {
   "cell_type": "code",
   "execution_count": 2,
   "metadata": {},
   "outputs": [
    {
     "name": "stdout",
     "output_type": "stream",
     "text": [
      "Collecting Plotly\n",
      "  Downloading plotly-4.6.0-py2.py3-none-any.whl (7.1 MB)\n",
      "\u001b[K     |████████████████████████████████| 7.1 MB 1.2 MB/s eta 0:00:01\n",
      "\u001b[?25hCollecting cufflinks\n",
      "  Downloading cufflinks-0.17.3.tar.gz (81 kB)\n",
      "\u001b[K     |████████████████████████████████| 81 kB 435 kB/s eta 0:00:01\n",
      "\u001b[?25hCollecting retrying>=1.3.3\n",
      "  Downloading retrying-1.3.3.tar.gz (10 kB)\n",
      "Requirement already satisfied: six in /Users/helenkapatsa/opt/anaconda3/lib/python3.7/site-packages (from Plotly) (1.14.0)\n",
      "Requirement already satisfied: numpy>=1.9.2 in /Users/helenkapatsa/opt/anaconda3/lib/python3.7/site-packages (from cufflinks) (1.18.1)\n",
      "Requirement already satisfied: pandas>=0.19.2 in /Users/helenkapatsa/opt/anaconda3/lib/python3.7/site-packages (from cufflinks) (1.0.1)\n",
      "Collecting colorlover>=0.2.1\n",
      "  Downloading colorlover-0.3.0-py3-none-any.whl (8.9 kB)\n",
      "Requirement already satisfied: setuptools>=34.4.1 in /Users/helenkapatsa/opt/anaconda3/lib/python3.7/site-packages (from cufflinks) (46.0.0.post20200309)\n",
      "Requirement already satisfied: ipython>=5.3.0 in /Users/helenkapatsa/opt/anaconda3/lib/python3.7/site-packages (from cufflinks) (7.12.0)\n",
      "Requirement already satisfied: ipywidgets>=7.0.0 in /Users/helenkapatsa/opt/anaconda3/lib/python3.7/site-packages (from cufflinks) (7.5.1)\n",
      "Requirement already satisfied: python-dateutil>=2.6.1 in /Users/helenkapatsa/opt/anaconda3/lib/python3.7/site-packages (from pandas>=0.19.2->cufflinks) (2.8.1)\n",
      "Requirement already satisfied: pytz>=2017.2 in /Users/helenkapatsa/opt/anaconda3/lib/python3.7/site-packages (from pandas>=0.19.2->cufflinks) (2019.3)\n",
      "Requirement already satisfied: pygments in /Users/helenkapatsa/opt/anaconda3/lib/python3.7/site-packages (from ipython>=5.3.0->cufflinks) (2.5.2)\n",
      "Requirement already satisfied: backcall in /Users/helenkapatsa/opt/anaconda3/lib/python3.7/site-packages (from ipython>=5.3.0->cufflinks) (0.1.0)\n",
      "Requirement already satisfied: traitlets>=4.2 in /Users/helenkapatsa/opt/anaconda3/lib/python3.7/site-packages (from ipython>=5.3.0->cufflinks) (4.3.3)\n",
      "Requirement already satisfied: pickleshare in /Users/helenkapatsa/opt/anaconda3/lib/python3.7/site-packages (from ipython>=5.3.0->cufflinks) (0.7.5)\n",
      "Requirement already satisfied: pexpect; sys_platform != \"win32\" in /Users/helenkapatsa/opt/anaconda3/lib/python3.7/site-packages (from ipython>=5.3.0->cufflinks) (4.8.0)\n",
      "Requirement already satisfied: jedi>=0.10 in /Users/helenkapatsa/opt/anaconda3/lib/python3.7/site-packages (from ipython>=5.3.0->cufflinks) (0.14.1)\n",
      "Requirement already satisfied: appnope; sys_platform == \"darwin\" in /Users/helenkapatsa/opt/anaconda3/lib/python3.7/site-packages (from ipython>=5.3.0->cufflinks) (0.1.0)\n",
      "Requirement already satisfied: prompt-toolkit!=3.0.0,!=3.0.1,<3.1.0,>=2.0.0 in /Users/helenkapatsa/opt/anaconda3/lib/python3.7/site-packages (from ipython>=5.3.0->cufflinks) (3.0.3)\n",
      "Requirement already satisfied: decorator in /Users/helenkapatsa/opt/anaconda3/lib/python3.7/site-packages (from ipython>=5.3.0->cufflinks) (4.4.1)\n",
      "Requirement already satisfied: nbformat>=4.2.0 in /Users/helenkapatsa/opt/anaconda3/lib/python3.7/site-packages (from ipywidgets>=7.0.0->cufflinks) (5.0.4)\n",
      "Requirement already satisfied: ipykernel>=4.5.1 in /Users/helenkapatsa/opt/anaconda3/lib/python3.7/site-packages (from ipywidgets>=7.0.0->cufflinks) (5.1.4)\n",
      "Requirement already satisfied: widgetsnbextension~=3.5.0 in /Users/helenkapatsa/opt/anaconda3/lib/python3.7/site-packages (from ipywidgets>=7.0.0->cufflinks) (3.5.1)\n",
      "Requirement already satisfied: ipython-genutils in /Users/helenkapatsa/opt/anaconda3/lib/python3.7/site-packages (from traitlets>=4.2->ipython>=5.3.0->cufflinks) (0.2.0)\n",
      "Requirement already satisfied: ptyprocess>=0.5 in /Users/helenkapatsa/opt/anaconda3/lib/python3.7/site-packages (from pexpect; sys_platform != \"win32\"->ipython>=5.3.0->cufflinks) (0.6.0)\n",
      "Requirement already satisfied: parso>=0.5.0 in /Users/helenkapatsa/opt/anaconda3/lib/python3.7/site-packages (from jedi>=0.10->ipython>=5.3.0->cufflinks) (0.5.2)\n",
      "Requirement already satisfied: wcwidth in /Users/helenkapatsa/opt/anaconda3/lib/python3.7/site-packages (from prompt-toolkit!=3.0.0,!=3.0.1,<3.1.0,>=2.0.0->ipython>=5.3.0->cufflinks) (0.1.8)\n",
      "Requirement already satisfied: jupyter-core in /Users/helenkapatsa/opt/anaconda3/lib/python3.7/site-packages (from nbformat>=4.2.0->ipywidgets>=7.0.0->cufflinks) (4.6.1)\n",
      "Requirement already satisfied: jsonschema!=2.5.0,>=2.4 in /Users/helenkapatsa/opt/anaconda3/lib/python3.7/site-packages (from nbformat>=4.2.0->ipywidgets>=7.0.0->cufflinks) (3.2.0)\n",
      "Requirement already satisfied: jupyter-client in /Users/helenkapatsa/opt/anaconda3/lib/python3.7/site-packages (from ipykernel>=4.5.1->ipywidgets>=7.0.0->cufflinks) (5.3.4)\n",
      "Requirement already satisfied: tornado>=4.2 in /Users/helenkapatsa/opt/anaconda3/lib/python3.7/site-packages (from ipykernel>=4.5.1->ipywidgets>=7.0.0->cufflinks) (6.0.3)\n",
      "Requirement already satisfied: notebook>=4.4.1 in /Users/helenkapatsa/opt/anaconda3/lib/python3.7/site-packages (from widgetsnbextension~=3.5.0->ipywidgets>=7.0.0->cufflinks) (6.0.3)\n",
      "Requirement already satisfied: attrs>=17.4.0 in /Users/helenkapatsa/opt/anaconda3/lib/python3.7/site-packages (from jsonschema!=2.5.0,>=2.4->nbformat>=4.2.0->ipywidgets>=7.0.0->cufflinks) (19.3.0)\n",
      "Requirement already satisfied: pyrsistent>=0.14.0 in /Users/helenkapatsa/opt/anaconda3/lib/python3.7/site-packages (from jsonschema!=2.5.0,>=2.4->nbformat>=4.2.0->ipywidgets>=7.0.0->cufflinks) (0.15.7)\n",
      "Requirement already satisfied: importlib-metadata; python_version < \"3.8\" in /Users/helenkapatsa/opt/anaconda3/lib/python3.7/site-packages (from jsonschema!=2.5.0,>=2.4->nbformat>=4.2.0->ipywidgets>=7.0.0->cufflinks) (1.5.0)\n",
      "Requirement already satisfied: pyzmq>=13 in /Users/helenkapatsa/opt/anaconda3/lib/python3.7/site-packages (from jupyter-client->ipykernel>=4.5.1->ipywidgets>=7.0.0->cufflinks) (18.1.1)\n",
      "Requirement already satisfied: Send2Trash in /Users/helenkapatsa/opt/anaconda3/lib/python3.7/site-packages (from notebook>=4.4.1->widgetsnbextension~=3.5.0->ipywidgets>=7.0.0->cufflinks) (1.5.0)\n",
      "Requirement already satisfied: terminado>=0.8.1 in /Users/helenkapatsa/opt/anaconda3/lib/python3.7/site-packages (from notebook>=4.4.1->widgetsnbextension~=3.5.0->ipywidgets>=7.0.0->cufflinks) (0.8.3)\n",
      "Requirement already satisfied: prometheus-client in /Users/helenkapatsa/opt/anaconda3/lib/python3.7/site-packages (from notebook>=4.4.1->widgetsnbextension~=3.5.0->ipywidgets>=7.0.0->cufflinks) (0.7.1)\n",
      "Requirement already satisfied: nbconvert in /Users/helenkapatsa/opt/anaconda3/lib/python3.7/site-packages (from notebook>=4.4.1->widgetsnbextension~=3.5.0->ipywidgets>=7.0.0->cufflinks) (5.6.1)\n",
      "Requirement already satisfied: jinja2 in /Users/helenkapatsa/opt/anaconda3/lib/python3.7/site-packages (from notebook>=4.4.1->widgetsnbextension~=3.5.0->ipywidgets>=7.0.0->cufflinks) (2.11.1)\n",
      "Requirement already satisfied: zipp>=0.5 in /Users/helenkapatsa/opt/anaconda3/lib/python3.7/site-packages (from importlib-metadata; python_version < \"3.8\"->jsonschema!=2.5.0,>=2.4->nbformat>=4.2.0->ipywidgets>=7.0.0->cufflinks) (2.2.0)\n",
      "Requirement already satisfied: mistune<2,>=0.8.1 in /Users/helenkapatsa/opt/anaconda3/lib/python3.7/site-packages (from nbconvert->notebook>=4.4.1->widgetsnbextension~=3.5.0->ipywidgets>=7.0.0->cufflinks) (0.8.4)\n",
      "Requirement already satisfied: testpath in /Users/helenkapatsa/opt/anaconda3/lib/python3.7/site-packages (from nbconvert->notebook>=4.4.1->widgetsnbextension~=3.5.0->ipywidgets>=7.0.0->cufflinks) (0.4.4)\n",
      "Requirement already satisfied: bleach in /Users/helenkapatsa/opt/anaconda3/lib/python3.7/site-packages (from nbconvert->notebook>=4.4.1->widgetsnbextension~=3.5.0->ipywidgets>=7.0.0->cufflinks) (3.1.0)\n",
      "Requirement already satisfied: defusedxml in /Users/helenkapatsa/opt/anaconda3/lib/python3.7/site-packages (from nbconvert->notebook>=4.4.1->widgetsnbextension~=3.5.0->ipywidgets>=7.0.0->cufflinks) (0.6.0)\n",
      "Requirement already satisfied: entrypoints>=0.2.2 in /Users/helenkapatsa/opt/anaconda3/lib/python3.7/site-packages (from nbconvert->notebook>=4.4.1->widgetsnbextension~=3.5.0->ipywidgets>=7.0.0->cufflinks) (0.3)\n",
      "Requirement already satisfied: pandocfilters>=1.4.1 in /Users/helenkapatsa/opt/anaconda3/lib/python3.7/site-packages (from nbconvert->notebook>=4.4.1->widgetsnbextension~=3.5.0->ipywidgets>=7.0.0->cufflinks) (1.4.2)\n",
      "Requirement already satisfied: MarkupSafe>=0.23 in /Users/helenkapatsa/opt/anaconda3/lib/python3.7/site-packages (from jinja2->notebook>=4.4.1->widgetsnbextension~=3.5.0->ipywidgets>=7.0.0->cufflinks) (1.1.1)\n",
      "Requirement already satisfied: webencodings in /Users/helenkapatsa/opt/anaconda3/lib/python3.7/site-packages (from bleach->nbconvert->notebook>=4.4.1->widgetsnbextension~=3.5.0->ipywidgets>=7.0.0->cufflinks) (0.5.1)\n",
      "Building wheels for collected packages: cufflinks, retrying\n"
     ]
    },
    {
     "name": "stdout",
     "output_type": "stream",
     "text": [
      "  Building wheel for cufflinks (setup.py) ... \u001b[?25ldone\n",
      "\u001b[?25h  Created wheel for cufflinks: filename=cufflinks-0.17.3-py3-none-any.whl size=67921 sha256=27a8f31033a779697d2af504035396a91dc7ebc64ceeeb9febb35f4fa918e149\n",
      "  Stored in directory: /Users/helenkapatsa/Library/Caches/pip/wheels/e1/27/13/3fe67fa7ea7be444b831d117220b3b586b872c9acd4df480d0\n",
      "  Building wheel for retrying (setup.py) ... \u001b[?25ldone\n",
      "\u001b[?25h  Created wheel for retrying: filename=retrying-1.3.3-py3-none-any.whl size=11430 sha256=4cac824beb0635a96b9f300430d2d6ae77b3db33dc7a0ca841bc4b2117e61800\n",
      "  Stored in directory: /Users/helenkapatsa/Library/Caches/pip/wheels/f9/8d/8d/f6af3f7f9eea3553bc2fe6d53e4b287dad18b06a861ac56ddf\n",
      "Successfully built cufflinks retrying\n",
      "Installing collected packages: retrying, Plotly, colorlover, cufflinks\n",
      "Successfully installed Plotly-4.6.0 colorlover-0.3.0 cufflinks-0.17.3 retrying-1.3.3\n",
      "Note: you may need to restart the kernel to use updated packages.\n"
     ]
    }
   ],
   "source": [
    "pip install Plotly cufflinks"
   ]
  },
  {
   "cell_type": "code",
   "execution_count": 4,
   "metadata": {
    "scrolled": true
   },
   "outputs": [
    {
     "name": "stdout",
     "output_type": "stream",
     "text": [
      "Collecting chart-studio\n",
      "  Downloading chart_studio-1.1.0-py3-none-any.whl (64 kB)\n",
      "\u001b[K     |████████████████████████████████| 64 kB 434 kB/s eta 0:00:01\n",
      "\u001b[?25hRequirement already satisfied: plotly in /Users/helenkapatsa/opt/anaconda3/lib/python3.7/site-packages (from chart-studio) (4.6.0)\n",
      "Requirement already satisfied: requests in /Users/helenkapatsa/opt/anaconda3/lib/python3.7/site-packages (from chart-studio) (2.22.0)\n",
      "Requirement already satisfied: six in /Users/helenkapatsa/opt/anaconda3/lib/python3.7/site-packages (from chart-studio) (1.14.0)\n",
      "Requirement already satisfied: retrying>=1.3.3 in /Users/helenkapatsa/opt/anaconda3/lib/python3.7/site-packages (from chart-studio) (1.3.3)\n",
      "Requirement already satisfied: chardet<3.1.0,>=3.0.2 in /Users/helenkapatsa/opt/anaconda3/lib/python3.7/site-packages (from requests->chart-studio) (3.0.4)\n",
      "Requirement already satisfied: urllib3!=1.25.0,!=1.25.1,<1.26,>=1.21.1 in /Users/helenkapatsa/opt/anaconda3/lib/python3.7/site-packages (from requests->chart-studio) (1.25.8)\n",
      "Requirement already satisfied: certifi>=2017.4.17 in /Users/helenkapatsa/opt/anaconda3/lib/python3.7/site-packages (from requests->chart-studio) (2019.11.28)\n",
      "Requirement already satisfied: idna<2.9,>=2.5 in /Users/helenkapatsa/opt/anaconda3/lib/python3.7/site-packages (from requests->chart-studio) (2.8)\n",
      "Installing collected packages: chart-studio\n",
      "Successfully installed chart-studio-1.1.0\n",
      "Note: you may need to restart the kernel to use updated packages.\n"
     ]
    }
   ],
   "source": [
    "pip install chart-studio"
   ]
  },
  {
   "cell_type": "code",
   "execution_count": 12,
   "metadata": {},
   "outputs": [],
   "source": [
    "import numpy as np\n",
    "import pandas as pd\n",
    "import cufflinks as cf\n",
    "\n",
    "import chart_studio\n",
    "import chart_studio.plotly as py\n",
    "import plotly.tools as tls\n",
    "import plotly.graph_objs as go"
   ]
  },
  {
   "cell_type": "code",
   "execution_count": 13,
   "metadata": {},
   "outputs": [],
   "source": [
    "# Авторизация plot.ly/api_signup\n",
    "chart_studio.tools.set_credentials_file(username='fitwist', api_key='L5tsN3JeOps41Xbj74Kd')"
   ]
  },
  {
   "cell_type": "code",
   "execution_count": 30,
   "metadata": {},
   "outputs": [
    {
     "data": {
      "text/html": [
       "\n",
       "        <iframe\n",
       "            width=\"100%\"\n",
       "            height=\"525px\"\n",
       "            src=\"https://plotly.com/~fitwist/8.embed\"\n",
       "            frameborder=\"0\"\n",
       "            allowfullscreen\n",
       "        ></iframe>\n",
       "        "
      ],
      "text/plain": [
       "<IPython.lib.display.IFrame at 0x1a287bf6d0>"
      ]
     },
     "execution_count": 30,
     "metadata": {},
     "output_type": "execute_result"
    }
   ],
   "source": [
    "# Определим длину оси x\n",
    "a = np.linspace(start = 0, stop = 36, num = 36)\n",
    "np.random.seed(25)\n",
    "\n",
    "# Определим длину оси y и ее высоту на холсте\n",
    "b = np.random.uniform(low = 0.0, high = 1.0, size = 36)\n",
    "\n",
    "trace = go.Scatter(x = a, y = b)\n",
    "# Объект data будет изображать trace как объект-список\n",
    "data = [trace]\n",
    "\n",
    "# Передадим основные аргументы методу iplot – данные, название\n",
    "py.iplot(data, filename='Линейный график')"
   ]
  },
  {
   "cell_type": "code",
   "execution_count": 31,
   "metadata": {},
   "outputs": [
    {
     "name": "stdout",
     "output_type": "stream",
     "text": [
      "{'title': 'Двойной линейный график', 'xaxis': {'title': 'x-axis'}, 'yaxis': {'title': 'y-axis'}}\n"
     ]
    }
   ],
   "source": [
    "# Придумаем координаты\n",
    "x = [1, 2, 3, 4, 5, 6, 7, 8, 9]\n",
    "y = [1, 2, 3, 4, 0, 4, 3, 2, 1]\n",
    "z = [10, 9, 8, 7, 6, 5, 4, 3, 2, 1]\n",
    "\n",
    "# Определим пути как точечные диаграммы\n",
    "trace0 = go.Scatter(x = x, y = y, name = \"Объект-список\", line = dict(width = 5))\n",
    "trace1 = go.Scatter(x = x, y = y, name = \"Объект-список #2\", line = dict(width = 5))\n",
    "data = [trace, trace1]\n",
    "\n",
    "# Словарь для описания параметров графика\n",
    "layout = dict(title = 'Двойной линейный график', xaxis = dict(title = 'x-axis'), yaxis = dict(title = 'y-axis'))\n",
    "print(layout)"
   ]
  },
  {
   "cell_type": "code",
   "execution_count": 32,
   "metadata": {},
   "outputs": [
    {
     "name": "stdout",
     "output_type": "stream",
     "text": [
      "{'data': [Scatter({\n",
      "    'x': array([ 0.        ,  1.02857143,  2.05714286,  3.08571429,  4.11428571,\n",
      "                 5.14285714,  6.17142857,  7.2       ,  8.22857143,  9.25714286,\n",
      "                10.28571429, 11.31428571, 12.34285714, 13.37142857, 14.4       ,\n",
      "                15.42857143, 16.45714286, 17.48571429, 18.51428571, 19.54285714,\n",
      "                20.57142857, 21.6       , 22.62857143, 23.65714286, 24.68571429,\n",
      "                25.71428571, 26.74285714, 27.77142857, 28.8       , 29.82857143,\n",
      "                30.85714286, 31.88571429, 32.91428571, 33.94285714, 34.97142857,\n",
      "                36.        ]),\n",
      "    'y': array([0.87012414, 0.58227693, 0.27883894, 0.18591123, 0.41110013, 0.11737555,\n",
      "                0.68496874, 0.43761106, 0.55622933, 0.36708032, 0.40236573, 0.1130407 ,\n",
      "                0.44703085, 0.58544512, 0.1619851 , 0.52071879, 0.32605113, 0.69918624,\n",
      "                0.36639455, 0.83637451, 0.48134294, 0.5165023 , 0.38304813, 0.9975409 ,\n",
      "                0.51424449, 0.55905327, 0.03444977, 0.71993003, 0.42100355, 0.43693513,\n",
      "                0.28170075, 0.90027434, 0.66961228, 0.45606875, 0.28980434, 0.52581896])\n",
      "}), Scatter({\n",
      "    'line': {'width': 5}, 'name': 'Объект-список #2', 'x': [1, 2, 3, 4, 5, 6, 7, 8, 9], 'y': [1, 2, 3, 4, 0, 4, 3, 2, 1]\n",
      "})], 'layout': {'title': 'Двойной линейный график', 'xaxis': {'title': 'x-axis'}, 'yaxis': {'title': 'y-axis'}}}\n"
     ]
    }
   ],
   "source": [
    "# Отобразим данные графика\n",
    "fig = dict(data = data, layout = layout)\n",
    "print(fig)"
   ]
  },
  {
   "cell_type": "code",
   "execution_count": 33,
   "metadata": {},
   "outputs": [
    {
     "data": {
      "text/html": [
       "\n",
       "        <iframe\n",
       "            width=\"100%\"\n",
       "            height=\"525px\"\n",
       "            src=\"https://plotly.com/~fitwist/10.embed\"\n",
       "            frameborder=\"0\"\n",
       "            allowfullscreen\n",
       "        ></iframe>\n",
       "        "
      ],
      "text/plain": [
       "<IPython.lib.display.IFrame at 0x1a28808e10>"
      ]
     },
     "execution_count": 33,
     "metadata": {},
     "output_type": "execute_result"
    }
   ],
   "source": [
    "py.iplot(fig, filename = \"Стилизованный линейный график\")"
   ]
  },
  {
   "cell_type": "code",
   "execution_count": 35,
   "metadata": {},
   "outputs": [
    {
     "data": {
      "text/html": [
       "\n",
       "        <iframe\n",
       "            width=\"100%\"\n",
       "            height=\"525px\"\n",
       "            src=\"https://plotly.com/~fitwist/8.embed\"\n",
       "            frameborder=\"0\"\n",
       "            allowfullscreen\n",
       "        ></iframe>\n",
       "        "
      ],
      "text/plain": [
       "<IPython.lib.display.IFrame at 0x1a26120850>"
      ]
     },
     "execution_count": 35,
     "metadata": {},
     "output_type": "execute_result"
    }
   ],
   "source": [
    "address = '/Users/helenkapatsa/Repositories/big-data-pandas/авто.csv'\n",
    "cars = pd.read_csv(address)\n",
    "cars.columns = ['car_names', 'mpg', 'cyl', 'disp', 'hp', 'drat', 'wt', 'qsec', 'vs', 'am', 'gear', 'carb']\n",
    "df = cars[['cyl', 'wt', 'mpg']]\n",
    "layout = dict(title = 'Линейный график', xaxis = dict(title = 'x-axis'), yaxis = dict(title = 'y-axis'))\n",
    "df.iplot(filename = 'Линейный график', layout = layout)"
   ]
  },
  {
   "cell_type": "code",
   "execution_count": 40,
   "metadata": {},
   "outputs": [
    {
     "data": {
      "text/html": [
       "\n",
       "        <iframe\n",
       "            width=\"100%\"\n",
       "            height=\"525px\"\n",
       "            src=\"https://plotly.com/~fitwist/13.embed\"\n",
       "            frameborder=\"0\"\n",
       "            allowfullscreen\n",
       "        ></iframe>\n",
       "        "
      ],
      "text/plain": [
       "<IPython.lib.display.IFrame at 0x122a4bcd0>"
      ]
     },
     "execution_count": 40,
     "metadata": {},
     "output_type": "execute_result"
    }
   ],
   "source": [
    "barData = [go.Bar(x = [1, 2, 3, 4, 5, 6, 7, 8, 9, 10], y = [1, 2, 3, 4, 0.5, 4, 3, 2, 1])]\n",
    "layout = dict(title = 'Simple Bar Chart', xaxis = dict(title = 'x-axis'), yaxis = dict(title = 'y-axis'))\n",
    "py.iplot(barData, filename = \"Гистограмма\", layout = layout)"
   ]
  },
  {
   "cell_type": "code",
   "execution_count": 43,
   "metadata": {
    "scrolled": true
   },
   "outputs": [
    {
     "data": {
      "text/html": [
       "\n",
       "        <iframe\n",
       "            width=\"100%\"\n",
       "            height=\"525px\"\n",
       "            src=\"https://plotly.com/~fitwist/17.embed\"\n",
       "            frameborder=\"0\"\n",
       "            allowfullscreen\n",
       "        ></iframe>\n",
       "        "
      ],
      "text/plain": [
       "<IPython.lib.display.IFrame at 0x1a2627aed0>"
      ]
     },
     "execution_count": 43,
     "metadata": {},
     "output_type": "execute_result"
    }
   ],
   "source": [
    "color_theme = dict(color = ['rgba(169, 169, 169, 1)', \n",
    "                            'rgba(255,160,122,1)', \n",
    "                            'rgba(176,224,230,1)', \n",
    "                            'rgba(143,143,188,1)', \n",
    "                            'rgba(189,183,107,1)', \n",
    "                            'rgba(188,143,143,1)', \n",
    "                            'rgba(221,160,221,1)',])\n",
    "trace0 = go.Bar(x = [1, 2, 3, 4, 5, 6, 7], y = [1, 2, 3, 4, 0.5, 3, 1], marker = color_theme)\n",
    "data = trace0\n",
    "layout = go.Layout(title = \"Кастомизированные цвета\")\n",
    "fig = go.Figure(data = data, layout = layout)\n",
    "\n",
    "py.iplot(fig, filename = \"Гистограмма с кастомизированными цветами\")"
   ]
  },
  {
   "cell_type": "code",
   "execution_count": 46,
   "metadata": {},
   "outputs": [
    {
     "data": {
      "text/html": [
       "\n",
       "        <iframe\n",
       "            width=\"100%\"\n",
       "            height=\"525px\"\n",
       "            src=\"https://plotly.com/~fitwist/21.embed\"\n",
       "            frameborder=\"0\"\n",
       "            allowfullscreen\n",
       "        ></iframe>\n",
       "        "
      ],
      "text/plain": [
       "<IPython.lib.display.IFrame at 0x1a2721e910>"
      ]
     },
     "execution_count": 46,
     "metadata": {},
     "output_type": "execute_result"
    }
   ],
   "source": [
    "fig = {'data': [{'labels': ['велосипел', 'мотоцикл', 'автомобиль', 'фургон', 'коляска'],\n",
    "                'values': [1, 2, 3, 4, 0.5], 'type': 'pie'}],\n",
    "      'layout': {'title': 'Круговая диаграмма'}}\n",
    "\n",
    "py.iplot(fig)"
   ]
  }
 ],
 "metadata": {
  "kernelspec": {
   "display_name": "Python 3",
   "language": "python",
   "name": "python3"
  }
 },
 "nbformat": 4,
 "nbformat_minor": 4
}
